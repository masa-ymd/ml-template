{
  "nbformat": 4,
  "nbformat_minor": 0,
  "metadata": {
    "colab": {
      "name": "kaggle_api.ipynb",
      "provenance": [],
      "authorship_tag": "ABX9TyOSCwgWtgwS92ahiKgIm/f0",
      "include_colab_link": true
    },
    "kernelspec": {
      "name": "python3",
      "display_name": "Python 3"
    }
  },
  "cells": [
    {
      "cell_type": "markdown",
      "metadata": {
        "id": "view-in-github",
        "colab_type": "text"
      },
      "source": [
        "<a href=\"https://colab.research.google.com/github/masa-ymd/ml-template/blob/master/kaggle_api.ipynb\" target=\"_parent\"><img src=\"https://colab.research.google.com/assets/colab-badge.svg\" alt=\"Open In Colab\"/></a>"
      ]
    },
    {
      "cell_type": "code",
      "metadata": {
        "colab": {
          "base_uri": "https://localhost:8080/"
        },
        "id": "5LpnuM0BUsq3",
        "outputId": "45a7c5d3-3071-49a4-f5a9-0e34576dba42"
      },
      "source": [
        "from google.colab import drive \r\n",
        "drive.mount('/content/drive')"
      ],
      "execution_count": 8,
      "outputs": [
        {
          "output_type": "stream",
          "text": [
            "Mounted at /content/drive\n"
          ],
          "name": "stdout"
        }
      ]
    },
    {
      "cell_type": "code",
      "metadata": {
        "id": "8rvPRwgs2pxL"
      },
      "source": [
        "from google.colab import files\r\n",
        "files.upload()"
      ],
      "execution_count": null,
      "outputs": []
    },
    {
      "cell_type": "code",
      "metadata": {
        "id": "EIW_2G_F3vFW"
      },
      "source": [
        "!mkdir -p ~/.kaggle\r\n",
        "!cp kaggle.json ~/.kaggle/\r\n",
        "!chmod 600 /root/.kaggle/kaggle.json"
      ],
      "execution_count": 4,
      "outputs": []
    },
    {
      "cell_type": "code",
      "metadata": {
        "colab": {
          "base_uri": "https://localhost:8080/"
        },
        "id": "M1J0uS7s3yMc",
        "outputId": "d69fca0b-15c7-4f0a-a5e0-88b192b5a6aa"
      },
      "source": [
        "!pip install kaggle"
      ],
      "execution_count": 3,
      "outputs": [
        {
          "output_type": "stream",
          "text": [
            "Requirement already satisfied: kaggle in /usr/local/lib/python3.6/dist-packages (1.5.10)\n",
            "Requirement already satisfied: tqdm in /usr/local/lib/python3.6/dist-packages (from kaggle) (4.41.1)\n",
            "Requirement already satisfied: six>=1.10 in /usr/local/lib/python3.6/dist-packages (from kaggle) (1.15.0)\n",
            "Requirement already satisfied: urllib3 in /usr/local/lib/python3.6/dist-packages (from kaggle) (1.24.3)\n",
            "Requirement already satisfied: requests in /usr/local/lib/python3.6/dist-packages (from kaggle) (2.23.0)\n",
            "Requirement already satisfied: python-slugify in /usr/local/lib/python3.6/dist-packages (from kaggle) (4.0.1)\n",
            "Requirement already satisfied: certifi in /usr/local/lib/python3.6/dist-packages (from kaggle) (2020.12.5)\n",
            "Requirement already satisfied: python-dateutil in /usr/local/lib/python3.6/dist-packages (from kaggle) (2.8.1)\n",
            "Requirement already satisfied: idna<3,>=2.5 in /usr/local/lib/python3.6/dist-packages (from requests->kaggle) (2.10)\n",
            "Requirement already satisfied: chardet<4,>=3.0.2 in /usr/local/lib/python3.6/dist-packages (from requests->kaggle) (3.0.4)\n",
            "Requirement already satisfied: text-unidecode>=1.3 in /usr/local/lib/python3.6/dist-packages (from python-slugify->kaggle) (1.3)\n"
          ],
          "name": "stdout"
        }
      ]
    },
    {
      "cell_type": "code",
      "metadata": {
        "colab": {
          "base_uri": "https://localhost:8080/"
        },
        "id": "nPpDcBeJbkol",
        "outputId": "c8d8d664-ebd8-447d-e152-e6d1a6fff68b"
      },
      "source": [
        "!kaggle competitions list"
      ],
      "execution_count": 5,
      "outputs": [
        {
          "output_type": "stream",
          "text": [
            "Warning: Looks like you're using an outdated API Version, please consider updating (server 1.5.10 / client 1.5.4)\n",
            "ref                                            deadline             category            reward  teamCount  userHasEntered  \n",
            "---------------------------------------------  -------------------  ---------------  ---------  ---------  --------------  \n",
            "contradictory-my-dear-watson                   2030-07-01 23:59:00  Getting Started     Prizes         70           False  \n",
            "gan-getting-started                            2030-07-01 23:59:00  Getting Started     Prizes        145           False  \n",
            "tpu-getting-started                            2030-06-03 23:59:00  Getting Started  Knowledge        337           False  \n",
            "digit-recognizer                               2030-01-01 00:00:00  Getting Started  Knowledge       2179            True  \n",
            "titanic                                        2030-01-01 00:00:00  Getting Started  Knowledge      16981            True  \n",
            "house-prices-advanced-regression-techniques    2030-01-01 00:00:00  Getting Started  Knowledge       4368           False  \n",
            "connectx                                       2030-01-01 00:00:00  Getting Started  Knowledge        392           False  \n",
            "nlp-getting-started                            2030-01-01 00:00:00  Getting Started  Knowledge       1117           False  \n",
            "competitive-data-science-predict-future-sales  2022-12-31 23:59:00  Playground           Kudos      10400           False  \n",
            "hungry-geese                                   2021-07-26 23:59:00  Playground          Prizes        249           False  \n",
            "indoor-location-navigation                     2021-05-17 23:59:00  Research           $10,000        254           False  \n",
            "hpa-single-cell-image-classification           2021-05-11 23:59:00  Featured           $25,000        147           False  \n",
            "vinbigdata-chest-xray-abnormalities-detection  2021-03-30 23:59:00  Featured           $50,000        628           False  \n",
            "hubmap-kidney-segmentation                     2021-03-25 23:59:00  Research           $60,000       1016           False  \n",
            "ranzcr-clip-catheter-line-classification       2021-03-15 23:59:00  Featured           $50,000        812           False  \n",
            "tabular-playground-series-feb-2021             2021-02-28 23:59:00  Playground            Swag        896           False  \n",
            "rock-paper-scissors                            2021-02-22 23:59:00  Playground          Prizes       1667           False  \n",
            "jane-street-market-prediction                  2021-02-22 23:59:00  Featured          $100,000       3997            True  \n",
            "santa-2020                                     2021-02-22 23:59:00  Featured            Prizes        792           False  \n",
            "cassava-leaf-disease-classification            2021-02-18 23:59:00  Research           $18,000       3871           False  \n"
          ],
          "name": "stdout"
        }
      ]
    },
    {
      "cell_type": "code",
      "metadata": {
        "id": "XSpKmzXt4AtW"
      },
      "source": [
        "COMPETITION_NAME=\"titanic\""
      ],
      "execution_count": 7,
      "outputs": []
    },
    {
      "cell_type": "code",
      "metadata": {
        "id": "mjAKSh2r5U7U"
      },
      "source": [
        "!mkdir /content/drive/MyDrive/{COMPETITION_NAME}"
      ],
      "execution_count": 9,
      "outputs": []
    },
    {
      "cell_type": "code",
      "metadata": {
        "colab": {
          "base_uri": "https://localhost:8080/"
        },
        "id": "d8LiFhVGcTUd",
        "outputId": "8f4061c8-b533-4034-9885-df64cfc097da"
      },
      "source": [
        "!kaggle competitions download -c {COMPETITION_NAME} -p /content/drive/MyDrive/{COMPETITION_NAME}/"
      ],
      "execution_count": 10,
      "outputs": [
        {
          "output_type": "stream",
          "text": [
            "Warning: Looks like you're using an outdated API Version, please consider updating (server 1.5.10 / client 1.5.4)\n",
            "Downloading test.csv to /content/drive/MyDrive/titanic\n",
            "  0% 0.00/28.0k [00:00<?, ?B/s]\n",
            "100% 28.0k/28.0k [00:00<00:00, 3.63MB/s]\n",
            "Downloading train.csv to /content/drive/MyDrive/titanic\n",
            "  0% 0.00/59.8k [00:00<?, ?B/s]\n",
            "100% 59.8k/59.8k [00:00<00:00, 7.88MB/s]\n",
            "Downloading gender_submission.csv to /content/drive/MyDrive/titanic\n",
            "  0% 0.00/3.18k [00:00<?, ?B/s]\n",
            "100% 3.18k/3.18k [00:00<00:00, 439kB/s]\n"
          ],
          "name": "stdout"
        }
      ]
    }
  ]
}